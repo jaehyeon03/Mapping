{
 "cells": [
  {
   "cell_type": "code",
   "execution_count": null,
   "metadata": {
    "colab": {
     "base_uri": "https://localhost:8080/"
    },
    "id": "zp5Y6mt5NSH7",
    "outputId": "13e5fb5a-65fb-4133-9514-4fc7dbffade6"
   },
   "outputs": [],
   "source": [
    "for i in range(1,10):\n",
    "  print(i, end = \" \")"
   ]
  }
 ],
 "metadata": {
  "colab": {
   "provenance": []
  },
  "kernelspec": {
   "display_name": "Python 3",
   "name": "python3"
  },
  "language_info": {
   "name": "python"
  }
 },
 "nbformat": 4,
 "nbformat_minor": 0
}
